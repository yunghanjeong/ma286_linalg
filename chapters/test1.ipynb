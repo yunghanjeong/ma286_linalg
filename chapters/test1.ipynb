{
 "cells": [
  {
   "cell_type": "markdown",
   "id": "267348c6-fb74-45fd-b322-7da55bf9057d",
   "metadata": {},
   "source": [
    "# Test 1 Study Guide\n",
    "\n",
    "Study guide for MAT286 Linear Algebra Test 1\n",
    "\n",
    "## Chapters\n",
    "\n",
    "- Chapter 1. System of Linear Equations\n",
    "- Chapter 2. Matrices"
   ]
  },
  {
   "cell_type": "code",
   "execution_count": null,
   "id": "587dc67c-c133-4ee4-9b51-bca664ae374d",
   "metadata": {},
   "outputs": [],
   "source": []
  },
  {
   "cell_type": "code",
   "execution_count": null,
   "id": "af870786-f693-484f-8fb6-6191119d062f",
   "metadata": {},
   "outputs": [],
   "source": []
  },
  {
   "cell_type": "code",
   "execution_count": null,
   "id": "15493ac8-b8e8-4675-a0a3-2036b09a1c5d",
   "metadata": {},
   "outputs": [],
   "source": []
  },
  {
   "cell_type": "code",
   "execution_count": null,
   "id": "b7048b5a-8a69-4cb2-bc7c-9c6c6ce9e815",
   "metadata": {},
   "outputs": [],
   "source": []
  }
 ],
 "metadata": {
  "kernelspec": {
   "display_name": "Python 3 (ipykernel)",
   "language": "python",
   "name": "python3"
  },
  "language_info": {
   "codemirror_mode": {
    "name": "ipython",
    "version": 3
   },
   "file_extension": ".py",
   "mimetype": "text/x-python",
   "name": "python",
   "nbconvert_exporter": "python",
   "pygments_lexer": "ipython3",
   "version": "3.9.13"
  }
 },
 "nbformat": 4,
 "nbformat_minor": 5
}
